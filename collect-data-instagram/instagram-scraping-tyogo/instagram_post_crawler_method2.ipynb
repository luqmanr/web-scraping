import os, time, errno, pickle, stdiomask
import re
import getpass
import json
import csv
import yaml
import sys
import cp
import selenium
from selenium import webdriver
from urllib.request import urlopen
from optparse import OptionParser
from selenium import webdriver  

urllist = []
counter = 1

CHROME_PATH = '/usr/bin/google-chrome'
CHROMEDRIVER_PATH = '/usr/bin/chromedriver'
WINDOW_SIZE = "1360,768"
sys.path.insert(0,'/usr/lib/chromium-browser/chromedriver')
chrome_options = webdriver.ChromeOptions()
chrome_options.add_argument('--headless')
chrome_options.add_argument('--no-sandbox')
chrome_options.add_argument('--disable-dev-shm-usage')
chrome_options.add_argument("--window-size=%s" % WINDOW_SIZE)

driver = webdriver.Chrome(
    executable_path="/usr/lib/chromium-browser/chromedriver",
    chrome_options=chrome_options
)

def login_instagram():
    try:
        driver.get("https://www.instagram.com/accounts/login/")
        time.sleep(2)

        username_bar = driver.find_element_by_name("username")
        username_bar.send_keys(login_id)

        password_bar = driver.find_element_by_name("password")
        password_bar.send_keys(password)
        time.sleep(2)

        login_button = driver.find_element_by_class_name("L3NKy")
        login_button.click()
    except:
        pass

def postButton():
    try:
        postButtonXpath = '/html/body/div[1]/section/main/div/header/section/ul/li[1]/span/span'
        post_button = driver.find_element_by_xpath(postButtonXpath)
        print("post button found")
        printPostValue = (post_button.text)
        postValue = printPostValue.split()
        x = postValue[0]
        print(x)
        return x
    except:
        pass

def nextClick():
  try:
    click = driver.find_element_by_xpath('/html/body/div[4]/div[1]/div/div/a[2]')
    click = click.click()
  except:
    click = driver.find_element_by_xpath('/html/body/div[4]/div[1]/div/div/a')
    click = click.click()

################################################################################
os.chdir("/content/gdrive/My Drive/")
try:
    os.mkdir("./instagram-posts")
except:
    pass
os.chdir("/content/gdrive/My Drive/instagram-posts")

login_id = input('Type your instagram username here: ')
password = getpass.getpass('Type your password here: ')
user_target = input("Type instagram username that you want to crawl its post(s) here: ")

login_instagram()
time.sleep(3)

driver.get("https://www.instagram.com/" + user_target +"/")
time.sleep(1)
x=postButton()
numberOfPosts = int(x)

driver.find_element_by_class_name('_9AhH0').click()
time.sleep(2)

urldict={}

while counter <= numberOfPosts:
  url = driver.current_url

  urllist.append(url)
  urldict.update({user_target : urllist})

  print(url)
  counter += 1
  time.sleep(1)
  if counter == numberOfPosts:
    break
  else:
    pass
  nextClick()

print(urldict)

with open('postURL(' + user_target + ').JSON', 'w') as jsonfile:
  json.dump(urldict,jsonfile)

time.sleep(3)
driver.close
