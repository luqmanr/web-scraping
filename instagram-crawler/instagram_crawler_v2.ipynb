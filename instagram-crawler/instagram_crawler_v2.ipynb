import os, time, errno, pickle, stdiomask
import re
import getpass
import json
import csv
import yaml
import sys
import cp
import selenium
from selenium import webdriver
from urllib.request import urlopen
from optparse import OptionParser
from selenium import webdriver  
from selenium.webdriver.chrome.options import Options
from selenium.webdriver.common.keys import Keys

infinity = 0x40000
maxCrawl = infinity
crawlCounter = 0
counter = 0
scroll = 0
Private = False
Username = True
folllist = []

WINDOW_SIZE = "1360,768"
sys.path.insert(0,'/usr/lib/chromium-browser/chromedriver')
chrome_options = webdriver.ChromeOptions()
chrome_options.add_argument('--headless')
chrome_options.add_argument('--no-sandbox')
chrome_options.add_argument('--disable-dev-shm-usage')
chrome_options.add_argument("--window-size=%s" % WINDOW_SIZE)
os.chdir("/content/gdrive/My Drive/")

driver = webdriver.Chrome(
    executable_path="/usr/lib/chromium-browser/chromedriver",
    chrome_options=chrome_options
)

def login_instagram():
    try:
        driver.get("https://www.instagram.com/accounts/login/")
        time.sleep(2)
        driver.find_element_by_name("username").send_keys(login_id)
        driver.find_element_by_name("password").send_keys(password)
        time.sleep(1)
        driver.find_element_by_class_name("L3NKy").click()
        return login_id
    except:
        print("the Xpath of this element (login_instagram) has changed")
        time.sleep(6)
        driver.close

def followerButton():
    try:
        follButtonXpath = '/html/body/div[1]/section/main/div/header/section/ul/li[2]/a/span'
        follower_button = driver.find_element_by_xpath(follButtonXpath)
        printfoll = follower_button.get_attribute('title')
    except KeyError:
        follButtonXpath = '/html/body/div[1]/section/main/div/ul/li[2]/span'
        follower_button = driver.find_element_by_xpath(follButtonXpath)
        print("followerButton Xpath alt 2")
        pass
    except:
        pass
        print("the Xpath of this element (followerButton) has changed")
    print("button found")
    follValue = printfoll.split(',')
    # print(follValue)
    try:
      follvalue0 = follValue[0]
      follvalue1 = follValue[1]
      follvalue = str(follvalue0 + follvalue1)
      print(follvalue)
      follower_button.click()
      return follvalue
    except:
      follvalue0 = follValue[0]
      follvalue = str(follvalue0)
      follvalue = follvalue0
      print(follvalue)
      follower_button.click()
      return follvalue

def follGet(n):
  follmax = 300
  while n <= follmax:
    str_n = str(n)
    try:
      follXpath = '/html/body/div[4]/div/div[2]/ul/div/li[' + str_n + ']/div/div[1]/div[2]/div[1]/a'
    except:
      follXpath = '/html/body/div[4]/div/div[2]/ul/div/li[' + str_n + ']/div/div[2]/div[1]/div/div/a'
    finally:
      follower_name = driver.find_element_by_xpath(follXpath)
      time.sleep(0.2)
      follvalue = (follower_name.text)
      return follvalue
    if n > follmax:
      break
    else:
      pass

def URL():
    urlmax = 100  #maximal userID to take (to avoid account block by Instagram)
    while counter <= urlmax:
        driver.switch_to.window(driver.window_handles[1])
        driver.get("https://www.instagram.com/"+USERstr+"/?__a=1")
        time.sleep(0.3)
        userID=driver.find_element_by_xpath('/html/body/pre')
        user=userID.get_attribute('innerHTML')
        s=user
        y=yaml.load(s)
        l=(y.get("logging_page_id"))
        IGid=(l.split('_'))
        IGidVal = IGid[1]
        driver.switch_to.window(driver.window_handles[0])
        if counter > max:
            print("ID Limit exceded")
            break
        return IGidVal

def myURL():
    driver.switch_to.window(driver.window_handles[1])
    driver.get("https://www.instagram.com/"+login_id+"/?__a=1")
    time.sleep(0.3)
    userID=driver.find_element_by_xpath('/html/body/pre')
    user=userID.get_attribute('innerHTML')
    s=user
    y=yaml.load(s)
    l=(y.get("logging_page_id"))
    IGid=(l.split('_'))
    myIGidVal = IGid[1]
    driver.switch_to.window(driver.window_handles[0])
    return myIGidVal

#commands
login_id = input('Your IG Account Username: ')
password = getpass.getpass('Your IG Account Password: ')
login_instagram()
time.sleep(5)

while crawlCounter <= maxCrawl:
  user_target = input('Your IG Account Username Target: ')
  driver.get('https://www.instagram.com/'+ user_target + '/')
  time.sleep(5)

  crawlCounter += 1
  try:
    follvalue=followerButton()
  except:
    sys.stderr.write("This account is private or doesn't exist")
    break
  xint = int(follvalue)
  time.sleep(3)

  fBody = driver.find_element_by_xpath("//div[@class='isgrP']")
  while scroll < xint:
      driver.execute_script('arguments[0].scrollTop = arguments[0].scrollTop + arguments[0].offsetHeight;', fBody)
      time.sleep(0.1)
      scroll += 1
      if scroll == xint/2:
          print("break")
          break
      else:
          pass

  time.sleep(1)
  for i in range(1, xint):
    
      USERstr = str(follGet(i))
      print(str(i)+USERstr)
      time.sleep(0.5)
      folllist.append(login_id + "," + user_target +"," + USERstr)

  print(folllist)
  time.sleep(3)
  with open('followers(' + user_target + ').csv', 'w', newline='') as csvfile:
      wr = csv.writer(csvfile)
      for follower in folllist:
          wr.writerow([follower])
  driver.execute_script("window.open('');")
  time.sleep(5)
time.sleep(5)
driver.close
driver.close
